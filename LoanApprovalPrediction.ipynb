{
 "cells": [
  {
   "cell_type": "markdown",
   "id": "c395b129-5e92-49d7-b1db-c2e79ca6dc84",
   "metadata": {},
   "source": [
    "Problem Statement:\n",
    "Dream Housing Finance company deals in all home loans. They have a presence across all urban, semi-urban, and rural areas. Customer-first applies for a home loan after that company validates the customer eligibility for a loan.\n",
    "\n",
    "The company wants to automate the loan eligibility process (real-time) based on customer detail provided while filling the online application form. These details are Gender, Marital Status, Education, Number of Dependents, Income, Loan Amount, Credit History, and others. To automate this process, they have given a problem to identify the customer's segments, those are eligible for loan amount so that they can specifically target these customers. Here they have provided a partial data set.\n",
    "\n",
    "\n",
    "Dataset Key Information:\r\n",
    "loan_id\tUnique loan ID\r\n",
    "no_of_dependents\tNumber of dependents of the applicant\r\n",
    "education\tEducation level of the applicant\r\n",
    "self_employed\tIf the applicant is self-employed or not\r\n",
    "income_annum\tAnnual income of the applicant\r\n",
    "loan_amount\tLoan amount requested by the applicant\r\n",
    "loan_tenure\tTenure of the loan requested by the applicant (in Years)\r\n",
    "cibil_score\tCIBIL score of the applicant\r\n",
    "residential_asset_value\tValue of the residential asset of the applicant\r\n",
    "commercial_asset_value\tValue of the commercial asset of the applicant\r\n",
    "luxury_asset_value\tValue of the luxury asset of the applicant\r\n",
    "bank_assets_value\tValue of the bank asset of the applicant\r\n",
    "loan_status\tStatus of the loan (Approved/Rejected)"
   ]
  },
  {
   "cell_type": "code",
   "execution_count": 42,
   "id": "19e8bc82-8318-4cea-a3ef-5ce19a799cd2",
   "metadata": {},
   "outputs": [],
   "source": [
    "import pandas as pd\n",
    "import numpy as np\n",
    "import warnings\n",
    "warnings.filterwarnings(\"ignore\")"
   ]
  },
  {
   "cell_type": "code",
   "execution_count": 5,
   "id": "28871027-ba9a-4351-a7c9-2b214d45f629",
   "metadata": {},
   "outputs": [],
   "source": [
    "data = pd.read_csv(\"loan_approval_dataset.csv\")"
   ]
  },
  {
   "cell_type": "code",
   "execution_count": 6,
   "id": "edb5ad4e-08d3-422d-9b9e-5b7f20762cc6",
   "metadata": {},
   "outputs": [
    {
     "data": {
      "text/html": [
       "<div>\n",
       "<style scoped>\n",
       "    .dataframe tbody tr th:only-of-type {\n",
       "        vertical-align: middle;\n",
       "    }\n",
       "\n",
       "    .dataframe tbody tr th {\n",
       "        vertical-align: top;\n",
       "    }\n",
       "\n",
       "    .dataframe thead th {\n",
       "        text-align: right;\n",
       "    }\n",
       "</style>\n",
       "<table border=\"1\" class=\"dataframe\">\n",
       "  <thead>\n",
       "    <tr style=\"text-align: right;\">\n",
       "      <th></th>\n",
       "      <th>loan_id</th>\n",
       "      <th>no_of_dependents</th>\n",
       "      <th>education</th>\n",
       "      <th>self_employed</th>\n",
       "      <th>income_annum</th>\n",
       "      <th>loan_amount</th>\n",
       "      <th>loan_term</th>\n",
       "      <th>cibil_score</th>\n",
       "      <th>residential_assets_value</th>\n",
       "      <th>commercial_assets_value</th>\n",
       "      <th>luxury_assets_value</th>\n",
       "      <th>bank_asset_value</th>\n",
       "      <th>loan_status</th>\n",
       "    </tr>\n",
       "  </thead>\n",
       "  <tbody>\n",
       "    <tr>\n",
       "      <th>0</th>\n",
       "      <td>1</td>\n",
       "      <td>2</td>\n",
       "      <td>Graduate</td>\n",
       "      <td>No</td>\n",
       "      <td>9600000</td>\n",
       "      <td>29900000</td>\n",
       "      <td>12</td>\n",
       "      <td>778</td>\n",
       "      <td>2400000</td>\n",
       "      <td>17600000</td>\n",
       "      <td>22700000</td>\n",
       "      <td>8000000</td>\n",
       "      <td>Approved</td>\n",
       "    </tr>\n",
       "    <tr>\n",
       "      <th>1</th>\n",
       "      <td>2</td>\n",
       "      <td>0</td>\n",
       "      <td>Not Graduate</td>\n",
       "      <td>Yes</td>\n",
       "      <td>4100000</td>\n",
       "      <td>12200000</td>\n",
       "      <td>8</td>\n",
       "      <td>417</td>\n",
       "      <td>2700000</td>\n",
       "      <td>2200000</td>\n",
       "      <td>8800000</td>\n",
       "      <td>3300000</td>\n",
       "      <td>Rejected</td>\n",
       "    </tr>\n",
       "    <tr>\n",
       "      <th>2</th>\n",
       "      <td>3</td>\n",
       "      <td>3</td>\n",
       "      <td>Graduate</td>\n",
       "      <td>No</td>\n",
       "      <td>9100000</td>\n",
       "      <td>29700000</td>\n",
       "      <td>20</td>\n",
       "      <td>506</td>\n",
       "      <td>7100000</td>\n",
       "      <td>4500000</td>\n",
       "      <td>33300000</td>\n",
       "      <td>12800000</td>\n",
       "      <td>Rejected</td>\n",
       "    </tr>\n",
       "    <tr>\n",
       "      <th>3</th>\n",
       "      <td>4</td>\n",
       "      <td>3</td>\n",
       "      <td>Graduate</td>\n",
       "      <td>No</td>\n",
       "      <td>8200000</td>\n",
       "      <td>30700000</td>\n",
       "      <td>8</td>\n",
       "      <td>467</td>\n",
       "      <td>18200000</td>\n",
       "      <td>3300000</td>\n",
       "      <td>23300000</td>\n",
       "      <td>7900000</td>\n",
       "      <td>Rejected</td>\n",
       "    </tr>\n",
       "    <tr>\n",
       "      <th>4</th>\n",
       "      <td>5</td>\n",
       "      <td>5</td>\n",
       "      <td>Not Graduate</td>\n",
       "      <td>Yes</td>\n",
       "      <td>9800000</td>\n",
       "      <td>24200000</td>\n",
       "      <td>20</td>\n",
       "      <td>382</td>\n",
       "      <td>12400000</td>\n",
       "      <td>8200000</td>\n",
       "      <td>29400000</td>\n",
       "      <td>5000000</td>\n",
       "      <td>Rejected</td>\n",
       "    </tr>\n",
       "  </tbody>\n",
       "</table>\n",
       "</div>"
      ],
      "text/plain": [
       "   loan_id   no_of_dependents      education  self_employed   income_annum  \\\n",
       "0        1                  2       Graduate             No        9600000   \n",
       "1        2                  0   Not Graduate            Yes        4100000   \n",
       "2        3                  3       Graduate             No        9100000   \n",
       "3        4                  3       Graduate             No        8200000   \n",
       "4        5                  5   Not Graduate            Yes        9800000   \n",
       "\n",
       "    loan_amount   loan_term   cibil_score   residential_assets_value  \\\n",
       "0      29900000          12           778                    2400000   \n",
       "1      12200000           8           417                    2700000   \n",
       "2      29700000          20           506                    7100000   \n",
       "3      30700000           8           467                   18200000   \n",
       "4      24200000          20           382                   12400000   \n",
       "\n",
       "    commercial_assets_value   luxury_assets_value   bank_asset_value  \\\n",
       "0                  17600000              22700000            8000000   \n",
       "1                   2200000               8800000            3300000   \n",
       "2                   4500000              33300000           12800000   \n",
       "3                   3300000              23300000            7900000   \n",
       "4                   8200000              29400000            5000000   \n",
       "\n",
       "   loan_status  \n",
       "0     Approved  \n",
       "1     Rejected  \n",
       "2     Rejected  \n",
       "3     Rejected  \n",
       "4     Rejected  "
      ]
     },
     "execution_count": 6,
     "metadata": {},
     "output_type": "execute_result"
    }
   ],
   "source": [
    "data.head()"
   ]
  },
  {
   "cell_type": "code",
   "execution_count": 7,
   "id": "70ea413b-84ac-4267-961a-a120ba981139",
   "metadata": {},
   "outputs": [
    {
     "name": "stdout",
     "output_type": "stream",
     "text": [
      "<class 'pandas.core.frame.DataFrame'>\n",
      "RangeIndex: 4269 entries, 0 to 4268\n",
      "Data columns (total 13 columns):\n",
      " #   Column                     Non-Null Count  Dtype \n",
      "---  ------                     --------------  ----- \n",
      " 0   loan_id                    4269 non-null   int64 \n",
      " 1    no_of_dependents          4269 non-null   int64 \n",
      " 2    education                 4269 non-null   object\n",
      " 3    self_employed             4269 non-null   object\n",
      " 4    income_annum              4269 non-null   int64 \n",
      " 5    loan_amount               4269 non-null   int64 \n",
      " 6    loan_term                 4269 non-null   int64 \n",
      " 7    cibil_score               4269 non-null   int64 \n",
      " 8    residential_assets_value  4269 non-null   int64 \n",
      " 9    commercial_assets_value   4269 non-null   int64 \n",
      " 10   luxury_assets_value       4269 non-null   int64 \n",
      " 11   bank_asset_value          4269 non-null   int64 \n",
      " 12   loan_status               4269 non-null   object\n",
      "dtypes: int64(10), object(3)\n",
      "memory usage: 433.7+ KB\n",
      "None\n",
      "           loan_id   no_of_dependents   income_annum   loan_amount  \\\n",
      "count  4269.000000        4269.000000   4.269000e+03  4.269000e+03   \n",
      "mean   2135.000000           2.498712   5.059124e+06  1.513345e+07   \n",
      "std    1232.498479           1.695910   2.806840e+06  9.043363e+06   \n",
      "min       1.000000           0.000000   2.000000e+05  3.000000e+05   \n",
      "25%    1068.000000           1.000000   2.700000e+06  7.700000e+06   \n",
      "50%    2135.000000           3.000000   5.100000e+06  1.450000e+07   \n",
      "75%    3202.000000           4.000000   7.500000e+06  2.150000e+07   \n",
      "max    4269.000000           5.000000   9.900000e+06  3.950000e+07   \n",
      "\n",
      "         loan_term   cibil_score   residential_assets_value  \\\n",
      "count  4269.000000   4269.000000               4.269000e+03   \n",
      "mean     10.900445    599.936051               7.472617e+06   \n",
      "std       5.709187    172.430401               6.503637e+06   \n",
      "min       2.000000    300.000000              -1.000000e+05   \n",
      "25%       6.000000    453.000000               2.200000e+06   \n",
      "50%      10.000000    600.000000               5.600000e+06   \n",
      "75%      16.000000    748.000000               1.130000e+07   \n",
      "max      20.000000    900.000000               2.910000e+07   \n",
      "\n",
      "        commercial_assets_value   luxury_assets_value   bank_asset_value  \n",
      "count              4.269000e+03          4.269000e+03       4.269000e+03  \n",
      "mean               4.973155e+06          1.512631e+07       4.976692e+06  \n",
      "std                4.388966e+06          9.103754e+06       3.250185e+06  \n",
      "min                0.000000e+00          3.000000e+05       0.000000e+00  \n",
      "25%                1.300000e+06          7.500000e+06       2.300000e+06  \n",
      "50%                3.700000e+06          1.460000e+07       4.600000e+06  \n",
      "75%                7.600000e+06          2.170000e+07       7.100000e+06  \n",
      "max                1.940000e+07          3.920000e+07       1.470000e+07  \n",
      "loan_id\n",
      " no_of_dependents\n",
      " education\n",
      " self_employed\n",
      " income_annum\n",
      " loan_amount\n",
      " loan_term\n",
      " cibil_score\n",
      " residential_assets_value\n",
      " commercial_assets_value\n",
      " luxury_assets_value\n",
      " bank_asset_value\n",
      " loan_status\n"
     ]
    }
   ],
   "source": [
    "print(data.info())\n",
    "print(data.describe())\n",
    "for col in data.columns:\n",
    "    print(col)"
   ]
  },
  {
   "cell_type": "code",
   "execution_count": 11,
   "id": "303ce2e6-1005-4f14-8a27-de612e133860",
   "metadata": {},
   "outputs": [],
   "source": [
    "columns_to_remove = ['loan_id']\n",
    "\n",
    "# Remove the specified columns\n",
    "data.drop(columns=columns_to_remove, inplace=True)"
   ]
  },
  {
   "cell_type": "code",
   "execution_count": 12,
   "id": "d0df8284-8c75-41bd-8d5d-4a0f511c1900",
   "metadata": {},
   "outputs": [
    {
     "name": "stdout",
     "output_type": "stream",
     "text": [
      "Dataset Shape: (4269, 12)\n"
     ]
    }
   ],
   "source": [
    "print(\"Dataset Shape:\", data.shape)"
   ]
  },
  {
   "cell_type": "code",
   "execution_count": 13,
   "id": "84e31675-065e-4275-a0ad-3034d640b013",
   "metadata": {},
   "outputs": [],
   "source": [
    "# Label Encoding\n",
    "data[' education'] = data[' education'].map({' Not Graduate':0, ' Graduate':1})\n",
    "data[' self_employed'] = data[' self_employed'].map({' No':0, ' Yes':1})\n",
    "data[' loan_status'] = data[' loan_status'].map({' Rejected':0, ' Approved':1})"
   ]
  },
  {
   "cell_type": "code",
   "execution_count": 14,
   "id": "43a82969-7ed2-453a-a200-26086a4026ee",
   "metadata": {},
   "outputs": [
    {
     "data": {
      "text/html": [
       "<div>\n",
       "<style scoped>\n",
       "    .dataframe tbody tr th:only-of-type {\n",
       "        vertical-align: middle;\n",
       "    }\n",
       "\n",
       "    .dataframe tbody tr th {\n",
       "        vertical-align: top;\n",
       "    }\n",
       "\n",
       "    .dataframe thead th {\n",
       "        text-align: right;\n",
       "    }\n",
       "</style>\n",
       "<table border=\"1\" class=\"dataframe\">\n",
       "  <thead>\n",
       "    <tr style=\"text-align: right;\">\n",
       "      <th></th>\n",
       "      <th>no_of_dependents</th>\n",
       "      <th>education</th>\n",
       "      <th>self_employed</th>\n",
       "      <th>income_annum</th>\n",
       "      <th>loan_amount</th>\n",
       "      <th>loan_term</th>\n",
       "      <th>cibil_score</th>\n",
       "      <th>residential_assets_value</th>\n",
       "      <th>commercial_assets_value</th>\n",
       "      <th>luxury_assets_value</th>\n",
       "      <th>bank_asset_value</th>\n",
       "      <th>loan_status</th>\n",
       "    </tr>\n",
       "  </thead>\n",
       "  <tbody>\n",
       "    <tr>\n",
       "      <th>0</th>\n",
       "      <td>2</td>\n",
       "      <td>1</td>\n",
       "      <td>0</td>\n",
       "      <td>9600000</td>\n",
       "      <td>29900000</td>\n",
       "      <td>12</td>\n",
       "      <td>778</td>\n",
       "      <td>2400000</td>\n",
       "      <td>17600000</td>\n",
       "      <td>22700000</td>\n",
       "      <td>8000000</td>\n",
       "      <td>1</td>\n",
       "    </tr>\n",
       "    <tr>\n",
       "      <th>1</th>\n",
       "      <td>0</td>\n",
       "      <td>0</td>\n",
       "      <td>1</td>\n",
       "      <td>4100000</td>\n",
       "      <td>12200000</td>\n",
       "      <td>8</td>\n",
       "      <td>417</td>\n",
       "      <td>2700000</td>\n",
       "      <td>2200000</td>\n",
       "      <td>8800000</td>\n",
       "      <td>3300000</td>\n",
       "      <td>0</td>\n",
       "    </tr>\n",
       "    <tr>\n",
       "      <th>2</th>\n",
       "      <td>3</td>\n",
       "      <td>1</td>\n",
       "      <td>0</td>\n",
       "      <td>9100000</td>\n",
       "      <td>29700000</td>\n",
       "      <td>20</td>\n",
       "      <td>506</td>\n",
       "      <td>7100000</td>\n",
       "      <td>4500000</td>\n",
       "      <td>33300000</td>\n",
       "      <td>12800000</td>\n",
       "      <td>0</td>\n",
       "    </tr>\n",
       "    <tr>\n",
       "      <th>3</th>\n",
       "      <td>3</td>\n",
       "      <td>1</td>\n",
       "      <td>0</td>\n",
       "      <td>8200000</td>\n",
       "      <td>30700000</td>\n",
       "      <td>8</td>\n",
       "      <td>467</td>\n",
       "      <td>18200000</td>\n",
       "      <td>3300000</td>\n",
       "      <td>23300000</td>\n",
       "      <td>7900000</td>\n",
       "      <td>0</td>\n",
       "    </tr>\n",
       "    <tr>\n",
       "      <th>4</th>\n",
       "      <td>5</td>\n",
       "      <td>0</td>\n",
       "      <td>1</td>\n",
       "      <td>9800000</td>\n",
       "      <td>24200000</td>\n",
       "      <td>20</td>\n",
       "      <td>382</td>\n",
       "      <td>12400000</td>\n",
       "      <td>8200000</td>\n",
       "      <td>29400000</td>\n",
       "      <td>5000000</td>\n",
       "      <td>0</td>\n",
       "    </tr>\n",
       "  </tbody>\n",
       "</table>\n",
       "</div>"
      ],
      "text/plain": [
       "    no_of_dependents   education   self_employed   income_annum   loan_amount  \\\n",
       "0                  2           1               0        9600000      29900000   \n",
       "1                  0           0               1        4100000      12200000   \n",
       "2                  3           1               0        9100000      29700000   \n",
       "3                  3           1               0        8200000      30700000   \n",
       "4                  5           0               1        9800000      24200000   \n",
       "\n",
       "    loan_term   cibil_score   residential_assets_value  \\\n",
       "0          12           778                    2400000   \n",
       "1           8           417                    2700000   \n",
       "2          20           506                    7100000   \n",
       "3           8           467                   18200000   \n",
       "4          20           382                   12400000   \n",
       "\n",
       "    commercial_assets_value   luxury_assets_value   bank_asset_value  \\\n",
       "0                  17600000              22700000            8000000   \n",
       "1                   2200000               8800000            3300000   \n",
       "2                   4500000              33300000           12800000   \n",
       "3                   3300000              23300000            7900000   \n",
       "4                   8200000              29400000            5000000   \n",
       "\n",
       "    loan_status  \n",
       "0             1  \n",
       "1             0  \n",
       "2             0  \n",
       "3             0  \n",
       "4             0  "
      ]
     },
     "execution_count": 14,
     "metadata": {},
     "output_type": "execute_result"
    }
   ],
   "source": [
    "data.head()\n"
   ]
  },
  {
   "cell_type": "code",
   "execution_count": 16,
   "id": "1c4fe511-055a-47ac-b69c-e2097611bc82",
   "metadata": {},
   "outputs": [],
   "source": [
    "import seaborn"
   ]
  },
  {
   "cell_type": "code",
   "execution_count": 18,
   "id": "ec00d8bd-6529-4314-a59d-80bae5d3ce6a",
   "metadata": {},
   "outputs": [],
   "source": [
    "import matplotlib.pyplot as plt\n",
    "%matplotlib inline"
   ]
  },
  {
   "cell_type": "code",
   "execution_count": 21,
   "id": "feeaaebd-da6d-45ac-84cd-0ff5c9b63f23",
   "metadata": {},
   "outputs": [
    {
     "data": {
      "image/png": "[encoded data removed]",
      "text/plain": [
       "<Figure size 1200x800 with 2 Axes>"
      ]
     },
     "metadata": {},
     "output_type": "display_data"
    }
   ],
   "source": [
    "plt.figure(figsize=(12,8))\n",
    "seaborn.heatmap(data.corr(),  annot=True, fmt='.1f', linewidths=.1)\n",
    "plt.show()"
   ]
  },
  {
   "cell_type": "code",
   "execution_count": 23,
   "id": "b5c7b57a-7bd5-4ece-ac66-5004b1b10fca",
   "metadata": {},
   "outputs": [
    {
     "data": {
      "text/plain": [
       " no_of_dependents           -0.018114\n",
       " education                   0.004918\n",
       " self_employed               0.000345\n",
       " income_annum               -0.015189\n",
       " loan_amount                 0.016150\n",
       " loan_term                  -0.113036\n",
       " cibil_score                 0.770518\n",
       " residential_assets_value   -0.014367\n",
       " commercial_assets_value     0.008246\n",
       " luxury_assets_value        -0.015465\n",
       " bank_asset_value           -0.006778\n",
       " loan_status                 1.000000\n",
       "Name:  loan_status, dtype: float64"
      ]
     },
     "execution_count": 23,
     "metadata": {},
     "output_type": "execute_result"
    }
   ],
   "source": [
    "data.corr()[' loan_status']"
   ]
  },
  {
   "cell_type": "markdown",
   "id": "de238e10-4e7d-4f5e-bde1-328edf1520c6",
   "metadata": {},
   "source": [
    "The heatmap of correlation values shows several strong connections:\r\n",
    "\r\n",
    "Movable Assets and Immovable Assets\r\n",
    "Income and Movable Assets\r\n",
    "Income and Immovable Assets\r\n",
    "Movable Assets and Loan Amount\r\n",
    "Immovable Assets and Loan Amount\r\n",
    "Loan Status and Cibil Score\r\n",
    "Loan Amount and Income\r\n",
    "It makes sense that movable and immovable assets are related since they're both types of assets. Similarly, income is linked to both movable and immovable assets, as those with higher income tend to have more assets.\r\n",
    "\r\n",
    "Now, let's look at how assets relate to the loan amount, as well as how income connects to the loan amount. We've already discussed the connection between loan status and CIBIL score in the previous part."
   ]
  },
  {
   "cell_type": "markdown",
   "id": "cf6b4b26-85fb-45ca-b643-f1ca46cecc8d",
   "metadata": {},
   "source": [
    "Machine Learning Model"
   ]
  },
  {
   "cell_type": "code",
   "execution_count": 24,
   "id": "c5930aac-7398-444c-8a3b-c70a901ead61",
   "metadata": {},
   "outputs": [],
   "source": [
    "from sklearn.model_selection import train_test_split\n",
    "from sklearn.preprocessing import MinMaxScaler,StandardScaler\n",
    "from sklearn.pipeline import Pipeline\n",
    "from sklearn.metrics import accuracy_score\n",
    "from sklearn.compose import ColumnTransformer\n",
    "from sklearn import tree"
   ]
  },
  {
   "cell_type": "code",
   "execution_count": 25,
   "id": "dd7dbfb6-3066-46fb-adf7-4fa45479dbf3",
   "metadata": {},
   "outputs": [],
   "source": [
    "X_train, X_test, y_train, y_test = train_test_split(data.drop(' loan_status', axis=1), data[' loan_status'], test_size=0.2, random_state=42)"
   ]
  },
  {
   "cell_type": "markdown",
   "id": "78aa0782-8c43-411e-a90c-d82988c51ad3",
   "metadata": {},
   "source": [
    "1. Logistic Regression"
   ]
  },
  {
   "cell_type": "code",
   "execution_count": 43,
   "id": "ef7e240c-56ac-4fd5-8d53-64e4a2fe7c8e",
   "metadata": {},
   "outputs": [],
   "source": [
    "from sklearn.linear_model import LogisticRegression\n",
    "\n",
    "lgr = LogisticRegression()\n",
    "\n",
    "lgr.fit(X_train, y_train)\n",
    "\n",
    "predictions = lgr.predict(X_test)"
   ]
  },
  {
   "cell_type": "code",
   "execution_count": 44,
   "id": "7b0d1252-e013-4d55-a25b-eb1b728b5665",
   "metadata": {},
   "outputs": [
    {
     "name": "stdout",
     "output_type": "stream",
     "text": [
      "Accuracy: 0.6288056206088993\n"
     ]
    }
   ],
   "source": [
    "# Calculate accuracy\n",
    "accuracy = accuracy_score(y_test, predictions)\n",
    "print(\"Accuracy:\", accuracy)"
   ]
  },
  {
   "cell_type": "markdown",
   "id": "9bb45ccf-1448-4039-a914-c5c059938699",
   "metadata": {},
   "source": [
    "2. Support Vector Classification (SVC)\n"
   ]
  },
  {
   "cell_type": "code",
   "execution_count": 45,
   "id": "ca6f2098-344e-4248-9578-eb675f6b7315",
   "metadata": {},
   "outputs": [],
   "source": [
    "from sklearn.svm import SVC\n",
    "\n",
    "model = SVC()\n",
    "model.fit(X_train, y_train)\n",
    "predictions = model.predict(X_test)"
   ]
  },
  {
   "cell_type": "code",
   "execution_count": 46,
   "id": "06cc3008-c990-4c43-b27f-b6c3a3516fec",
   "metadata": {},
   "outputs": [
    {
     "name": "stdout",
     "output_type": "stream",
     "text": [
      "Accuracy: 0.6276346604215457\n"
     ]
    }
   ],
   "source": [
    "accuracy = accuracy_score(y_test, predictions)\n",
    "print(\"Accuracy:\", accuracy)"
   ]
  },
  {
   "cell_type": "markdown",
   "id": "fc71d269-5f32-4ee9-b7bf-fde7dcb533ae",
   "metadata": {},
   "source": [
    "3.Decision Tree"
   ]
  },
  {
   "cell_type": "code",
   "execution_count": 47,
   "id": "f8320f4c-abdf-4fa1-b6ab-67ca37494a4b",
   "metadata": {},
   "outputs": [],
   "source": [
    "from sklearn.tree import DecisionTreeClassifier\n",
    "\n",
    "dtree = DecisionTreeClassifier()\n",
    "dtree.fit(X_train, y_train)\n",
    "dtree_pred = dtree.predict(X_test)"
   ]
  },
  {
   "cell_type": "code",
   "execution_count": 48,
   "id": "0cf06c6d-6422-43f3-8582-79d8a268df32",
   "metadata": {},
   "outputs": [
    {
     "data": {
      "text/plain": [
       "1.0"
      ]
     },
     "execution_count": 48,
     "metadata": {},
     "output_type": "execute_result"
    }
   ],
   "source": [
    "# Training Accuracy\n",
    "dtree.score(X_train, y_train)"
   ]
  },
  {
   "cell_type": "code",
   "execution_count": 49,
   "id": "a8c99bcb-b117-44d1-aae6-09c1e1721ab8",
   "metadata": {},
   "outputs": [
    {
     "name": "stdout",
     "output_type": "stream",
     "text": [
      "Accuracy: 0.977751756440281\n"
     ]
    }
   ],
   "source": [
    "# Calculate accuracy\n",
    "accuracy = accuracy_score(y_test, dtree_pred)\n",
    "print(\"Accuracy:\", accuracy)"
   ]
  },
  {
   "cell_type": "markdown",
   "id": "1013208a-af09-4a62-9eaf-140ac42d919b",
   "metadata": {},
   "source": [
    "4. Random Forest "
   ]
  },
  {
   "cell_type": "code",
   "execution_count": 50,
   "id": "af6a6f75-4897-4a7d-babb-fe4a156a1b54",
   "metadata": {},
   "outputs": [],
   "source": [
    "from sklearn.ensemble import RandomForestClassifier\n",
    "\n",
    "# Create a random forest classifier\n",
    "rfc = RandomForestClassifier()\n",
    "rfc.fit(X_train, y_train)\n",
    "rfc_pred = rfc.predict(X_test)"
   ]
  },
  {
   "cell_type": "code",
   "execution_count": 51,
   "id": "6b83bf29-deaa-40bc-a512-8f9ad04cf76c",
   "metadata": {},
   "outputs": [
    {
     "name": "stdout",
     "output_type": "stream",
     "text": [
      "Accuracy: 0.977751756440281\n"
     ]
    }
   ],
   "source": [
    "# Calculate accuracy\n",
    "accuracy = accuracy_score(y_test, rfc_pred)\n",
    "print(\"Accuracy:\", accuracy)"
   ]
  },
  {
   "cell_type": "code",
   "execution_count": 52,
   "id": "0b6c9a24-a8f4-410c-a9e0-093dac32363e",
   "metadata": {},
   "outputs": [
    {
     "data": {
      "text/plain": [
       "Text(518.4494949494949, 0.5, 'Actual')"
      ]
     },
     "execution_count": 52,
     "metadata": {},
     "output_type": "execute_result"
    },
    {
     "data": {
      "image/png": "[encoded data removed]",
      "text/plain": [
       "<Figure size 1000x400 with 4 Axes>"
      ]
     },
     "metadata": {},
     "output_type": "display_data"
    }
   ],
   "source": [
    "from sklearn.metrics import confusion_matrix\n",
    "\n",
    "fig, ax = plt.subplots(1,2,figsize=(10,4))\n",
    "seaborn.heatmap(confusion_matrix(y_test, dtree_pred), annot=True, ax=ax[0]).set_title('Decision Tree')\n",
    "ax[0].set_xlabel('Predicted')\n",
    "ax[0].set_ylabel('Actual')\n",
    "seaborn.heatmap(confusion_matrix(y_test, rfc_pred), annot=True, ax=ax[1]).set_title('Random Forest')\n",
    "ax[1].set_xlabel('Predicted')\n",
    "ax[1].set_ylabel('Actual')"
   ]
  },
  {
   "cell_type": "code",
   "execution_count": 53,
   "id": "7f8ba914-b088-4260-817d-69824dec4157",
   "metadata": {},
   "outputs": [],
   "source": [
    "import time"
   ]
  },
  {
   "cell_type": "code",
   "execution_count": 54,
   "id": "8372acdf-1a8d-475e-b55a-e6360bc5aae7",
   "metadata": {},
   "outputs": [
    {
     "name": "stdout",
     "output_type": "stream",
     "text": [
      "Random Forest with 1 trees yielded accuracy of: 0.9614  with a total loop time of: 0.027\n",
      "Random Forest with 100 trees yielded accuracy of: 0.9824  with a total loop time of: 0.175\n",
      "Random Forest with 200 trees yielded accuracy of: 0.9789  with a total loop time of: 0.322\n",
      "Random Forest with 300 trees yielded accuracy of: 0.9813  with a total loop time of: 0.465\n",
      "Random Forest with 400 trees yielded accuracy of: 0.9801  with a total loop time of: 0.649\n",
      "Random Forest with 500 trees yielded accuracy of: 0.9801  with a total loop time of: 0.819\n",
      "Random Forest with 600 trees yielded accuracy of: 0.9813  with a total loop time of: 0.937\n",
      "Random Forest with 700 trees yielded accuracy of: 0.9801  with a total loop time of: 1.084\n",
      "Random Forest with 800 trees yielded accuracy of: 0.9801  with a total loop time of: 1.224\n",
      "Random Forest with 900 trees yielded accuracy of: 0.9801  with a total loop time of: 1.365\n",
      "Random Forest with 1000 trees yielded accuracy of: 0.9801  with a total loop time of: 1.5859\n"
     ]
    },
    {
     "data": {
      "image/png": "[encoded data removed]",
      "text/plain": [
       "<Figure size 640x480 with 1 Axes>"
      ]
     },
     "metadata": {},
     "output_type": "display_data"
    }
   ],
   "source": [
    "#Find run times, accuracy for random forest classifiers with trees between (1, 1000).\n",
    "n_trees = [1] + [100 * i for i in range (1, 11)]\n",
    "accuracy_scores = []\n",
    "loopTimes = []\n",
    "\n",
    "#Main Loop\n",
    "for n in n_trees:\n",
    "    #Start timing loop\n",
    "    startTime = time.time()\n",
    "    #Train and get predictions from current random forest\n",
    "    this_random_forest = RandomForestClassifier(random_state = 0, n_estimators = n, min_impurity_decrease = .0001, n_jobs = 14)\n",
    "    this_random_forest.fit(X_train, y_train)\n",
    "    this_yhat = this_random_forest.predict(X_test)\n",
    "    #Get accuracy of current random forest\n",
    "    this_accuracy = accuracy_score(y_true = y_test, y_pred = this_yhat)\n",
    "    accuracy_scores.append(this_accuracy)\n",
    "    #Stop timing loop now that large calculations are done, record results\n",
    "    endTime = time.time()\n",
    "    totalLoopTime = endTime - startTime\n",
    "    loopTimes.append(totalLoopTime)\n",
    "    #Print results for this random forest\n",
    "    print(\"Random Forest with \" + str(n) + \" trees yielded accuracy of: \" + str(round(this_accuracy, 4)), \" with a total loop time of: \" + str(round(totalLoopTime, 4)))\n",
    "\n",
    "#This makes a plot of Accuracy Vs. Number of Trees\n",
    "plt.plot(n_trees, accuracy_scores)\n",
    "plt.xlabel(\"Number of trees in random forest\")\n",
    "plt.ylabel(\"Accuracy\")\n",
    "plt.title(\"Accuracy Vs. Number of Trees\")\n",
    "plt.show()"
   ]
  },
  {
   "cell_type": "markdown",
   "id": "06f6f8d4-b40c-4ffc-aa93-a595af6b0fc5",
   "metadata": {},
   "source": [
    "Summary of Model Performance for Loan Approval Prediction\r\n",
    "\r\n",
    "When looking at different ways to predict if loans will be approved or not, we found that the Decision Tree model worked really well. It was accurate and could predict outcomes quite accurately. The Random Forest model also did a good job.\r\n",
    "\r\n",
    "However, the models called Support Vector Machine (SVM) and Logistic Regression didn't work well for this dataset. They didn't predict as accurately as the Decision Tree and Random Forest models.\r\n",
    "\r\n",
    "This tells us that picking the right model is really important. The Decision Tree and Random Forest models were great for this data, but SVM and Logistic Regression weren't a good fit."
   ]
  },
  {
   "cell_type": "code",
   "execution_count": null,
   "id": "1583b5ff-e46d-46b9-9d81-71ea043053fc",
   "metadata": {},
   "outputs": [],
   "source": []
  }
 ],
 "metadata": {
  "kernelspec": {
   "display_name": "Python 3 (ipykernel)",
   "language": "python",
   "name": "python3"
  },
  "language_info": {
   "codemirror_mode": {
    "name": "ipython",
    "version": 3
   },
   "file_extension": ".py",
   "mimetype": "text/x-python",
   "name": "python",
   "nbconvert_exporter": "python",
   "pygments_lexer": "ipython3",
   "version": "3.11.5"
  }
 },
 "nbformat": 4,
 "nbformat_minor": 5
}
